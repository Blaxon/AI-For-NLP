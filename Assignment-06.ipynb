{
 "cells": [
  {
   "cell_type": "markdown",
   "metadata": {},
   "source": [
    "# Similar Words"
   ]
  },
  {
   "cell_type": "code",
   "execution_count": 38,
   "metadata": {},
   "outputs": [],
   "source": [
    "import pandas as pd\n",
    "import jieba, re\n",
    "\n",
    "csvfile = '/Users/xianghang/Desktop/sqlResult_1558435.csv'\n",
    "content = pd.read_csv(csvfile, delimiter=\",\", quotechar='\"', escapechar='\\\\')\n",
    "content.fillna('')\n",
    "news_content = content['content'].dropna().tolist()"
   ]
  },
  {
   "cell_type": "code",
   "execution_count": 39,
   "metadata": {},
   "outputs": [],
   "source": [
    "def cut(s): return ' '.join(jieba.cut(s))\n",
    "def token(s): return re.findall(r'[\\d|\\w]+', s)"
   ]
  },
  {
   "cell_type": "code",
   "execution_count": 41,
   "metadata": {},
   "outputs": [
    {
     "data": {
      "text/plain": [
       "['此外   自 本周   6 月 12 日   起   除 小米 手机 6 等 15 款 机型 外   其余 机型 已 暂停 更新 发布   含 开发 版   体验版 内测   稳定版 暂不受 影响   以 确保 工程师 可以 集中 全部 精力 进行 系统优化 工作   有人 猜测 这 也 是 将 精力 主要 用到 MIUI   9 的 研发 之中   MIUI   8 去年 5 月 发布   距今已有 一年 有余   也 是 时候 更新换代 了   当然   关于 MIUI   9 的 确切 信息   我们 还是 等待 官方消息',\n",
       " '骁龙 835 作为 唯一 通过 Windows   10 桌面 平台 认证 的 ARM 处理器   高通 强调   不会 因为 只 考虑 性能 而 去 屏蔽掉 小 核心   相反   他们 正 联手 微软   找到 一种 适合 桌面 平台 的   兼顾 性能 和 功耗 的 完美 方案   报道 称   微软 已经 拿到 了 一些 新 的 源码   以便 Windows   10 更好 地 理解 big   little 架构   资料 显示   骁龙 835 作为 一款 集成 了 CPU   GPU   基带   蓝牙   Wi   Fi 的 SoC   比 传统 的 Wintel 方案 可以 节省 至少 30   的 PCB 空间   按计划   今年 Q4   华硕   惠普   联想 将 首发 骁龙 835   Win10 电脑   预计 均 是 二合一 形态 的 产品   当然   高通 骁龙 只是 个 开始   未来 也许 还 能 见到 三星 Exynos   联发科   华为 麒麟   小米 澎湃 等 进入 Windows   10 桌面 平台']"
      ]
     },
     "execution_count": 41,
     "metadata": {},
     "output_type": "execute_result"
    }
   ],
   "source": [
    "import numpy as np\n",
    "rawdata = [cut(' '.join(token(news))) for news in news_content]\n",
    "\n",
    "rawdata[:2]"
   ]
  },
  {
   "cell_type": "code",
   "execution_count": 43,
   "metadata": {},
   "outputs": [],
   "source": [
    "with open('news-sentences-cut.txt', 'w') as f:\n",
    "    f.writelines(rawdata)"
   ]
  },
  {
   "cell_type": "code",
   "execution_count": 51,
   "metadata": {},
   "outputs": [],
   "source": [
    "from gensim.models import Word2Vec\n",
    "from gensim.models.word2vec import LineSentence"
   ]
  },
  {
   "cell_type": "code",
   "execution_count": 52,
   "metadata": {},
   "outputs": [],
   "source": [
    "news_word2ve= Word2Vec(LineSentence('news-sentences-cut.txt'), size=35, workers=8)"
   ]
  },
  {
   "cell_type": "code",
   "execution_count": 72,
   "metadata": {},
   "outputs": [
    {
     "name": "stderr",
     "output_type": "stream",
     "text": [
      "/Library/Frameworks/Python.framework/Versions/3.6/lib/python3.6/site-packages/ipykernel_launcher.py:1: DeprecationWarning: Call to deprecated `most_similar` (Method will be removed in 4.0.0, use self.wv.most_similar() instead).\n",
      "  \"\"\"Entry point for launching an IPython kernel.\n"
     ]
    },
    {
     "data": {
      "text/plain": [
       "[('指出', 0.9100027084350586),\n",
       " ('说', 0.9051997065544128),\n",
       " ('认为', 0.8751715421676636),\n",
       " ('透露', 0.8278045058250427),\n",
       " ('强调', 0.7909775972366333),\n",
       " ('坦言', 0.7807946801185608),\n",
       " ('称', 0.7596263885498047),\n",
       " ('建议', 0.7534583806991577),\n",
       " ('介绍', 0.7453078627586365),\n",
       " ('看来', 0.7262009382247925)]"
      ]
     },
     "execution_count": 72,
     "metadata": {},
     "output_type": "execute_result"
    }
   ],
   "source": [
    "news_word2ve.most_similar('表示')"
   ]
  },
  {
   "cell_type": "markdown",
   "metadata": {},
   "source": [
    "# More Data Better Result\n",
    "1. 分词的问题\n",
    "2. 数据量，量越多结果越准确"
   ]
  },
  {
   "cell_type": "code",
   "execution_count": 68,
   "metadata": {},
   "outputs": [],
   "source": [
    "from collections import defaultdict\n",
    "\n",
    "def getRelatedWords(iniwords, model):\n",
    "    unseen = iniwords\n",
    "    seen = defaultdict(int)\n",
    "    max_size = 500\n",
    "    \n",
    "    while unseen and len(seen) < max_size:\n",
    "        node = unseen.pop(0)\n",
    "        new_expanding = [w for w,s in model.most_similar(node, topn=20)]\n",
    "        unseen += new_expanding\n",
    "        seen[node] += 1\n",
    "        \n",
    "    return seen"
   ]
  },
  {
   "cell_type": "code",
   "execution_count": 73,
   "metadata": {},
   "outputs": [
    {
     "name": "stderr",
     "output_type": "stream",
     "text": [
      "/Library/Frameworks/Python.framework/Versions/3.6/lib/python3.6/site-packages/ipykernel_launcher.py:10: DeprecationWarning: Call to deprecated `most_similar` (Method will be removed in 4.0.0, use self.wv.most_similar() instead).\n",
      "  # Remove the CWD from sys.path while we load stuff.\n"
     ]
    },
    {
     "data": {
      "text/plain": [
       "[('表示', 83),\n",
       " ('说', 76),\n",
       " ('指出', 73),\n",
       " ('认为', 73),\n",
       " ('坦言', 61),\n",
       " ('透露', 60),\n",
       " ('所说', 51),\n",
       " ('提到', 49),\n",
       " ('称', 46),\n",
       " ('特别强调', 46),\n",
       " ('看来', 43),\n",
       " ('建议', 43),\n",
       " ('强调', 40),\n",
       " ('中说', 40),\n",
       " ('介绍', 35),\n",
       " ('明说', 34),\n",
       " ('文说', 34),\n",
       " ('告诉', 31),\n",
       " ('普遍认为', 25),\n",
       " ('时说', 24)]"
      ]
     },
     "execution_count": 73,
     "metadata": {},
     "output_type": "execute_result"
    }
   ],
   "source": [
    "related_words = getRelatedWords(['说','表示'], news_word2ve)\n",
    "sorted_related_words = sorted(related_words.items(), key=lambda x: x[1], reverse=True)\n",
    "sorted_related_words[:20]"
   ]
  },
  {
   "cell_type": "code",
   "execution_count": null,
   "metadata": {},
   "outputs": [],
   "source": []
  },
  {
   "cell_type": "code",
   "execution_count": null,
   "metadata": {},
   "outputs": [],
   "source": []
  }
 ],
 "metadata": {
  "kernelspec": {
   "display_name": "Python 3",
   "language": "python",
   "name": "python3"
  },
  "language_info": {
   "codemirror_mode": {
    "name": "ipython",
    "version": 3
   },
   "file_extension": ".py",
   "mimetype": "text/x-python",
   "name": "python",
   "nbconvert_exporter": "python",
   "pygments_lexer": "ipython3",
   "version": "3.6.8"
  }
 },
 "nbformat": 4,
 "nbformat_minor": 2
}
