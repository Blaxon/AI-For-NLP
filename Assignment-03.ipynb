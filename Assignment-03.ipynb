{
 "cells": [
  {
   "cell_type": "markdown",
   "metadata": {},
   "source": [
    "## Assignments for Week-03"
   ]
  },
  {
   "cell_type": "markdown",
   "metadata": {},
   "source": [
    "### 1. Re-code the titanic machine learning\n",
    "\n",
    "###### 1. Random Choose Method to get optimal *k* and *b*\n",
    "###### 2.Supervised Direction to get optimal *k* and *b*\n",
    "###### 3.Gradient Descent to get optimal *k* and *b*"
   ]
  },
  {
   "cell_type": "code",
   "execution_count": 2,
   "metadata": {},
   "outputs": [
    {
     "data": {
      "image/png": "[encoded data removed]",
      "text/plain": [
       "<Figure size 432x288 with 1 Axes>"
      ]
     },
     "metadata": {
      "needs_background": "light"
     },
     "output_type": "display_data"
    },
    {
     "name": "stdout",
     "output_type": "stream",
     "text": [
      "[138.37611332902367, 76.93811708967259, 62.954176719683176, 62.87428886929664, 61.85071583650258, 61.46715391964375]\n"
     ]
    }
   ],
   "source": [
    "# 1. Random Choose Method to get optimal k* and *b\n",
    "import random\n",
    "import numpy as np\n",
    "import matplotlib.pyplot as plt\n",
    "import pandas as pd\n",
    "\n",
    "content = pd.read_csv('/Users/xianghang/Downloads/titanic/train.csv')\n",
    "content = content.dropna()\n",
    "age_with_fares = content[\n",
    "    (content['Age'] > 22) & (content['Fare'] < 400) & (content['Fare'] > 130)\n",
    "]\n",
    "sub_fare = age_with_fares['Fare']\n",
    "sub_age = age_with_fares['Age']\n",
    "\n",
    "def randomChoose(count, data):\n",
    "    _randomselect = lambda : (random.random()*20-10, random.random()*20-10)\n",
    "    _genFunc = lambda k,b: lambda x: k*x+b\n",
    "    _calcLoss = lambda k,b: np.mean(np.abs(data['y'] - _genFunc(k,b)(data['x'])))\n",
    "    \n",
    "    k_init, b_init = _randomselect()\n",
    "    good = k_init, b_init, float('inf')\n",
    "    losses = []\n",
    "    for _ in range(count):\n",
    "        k, b = _randomselect()\n",
    "        loss = _calcLoss(k,b)\n",
    "        if loss < good[2]:\n",
    "            good = k, b, loss\n",
    "            losses.append(loss)\n",
    "    return losses\n",
    "\n",
    "losses = randomChoose(1000, {'x': sub_age, 'y': sub_fare})\n",
    "\n",
    "plt.plot(range(len(losses)), losses)\n",
    "plt.show()\n",
    "\n",
    "print(losses)\n",
    "    \n",
    "    "
   ]
  },
  {
   "cell_type": "code",
   "execution_count": 3,
   "metadata": {},
   "outputs": [
    {
     "data": {
      "image/png": "[encoded data removed]",
      "text/plain": [
       "<Figure size 432x288 with 1 Axes>"
      ]
     },
     "metadata": {
      "needs_background": "light"
     },
     "output_type": "display_data"
    },
    {
     "name": "stdout",
     "output_type": "stream",
     "text": [
      "[60.31184779589635, 59.09868347675522, 57.954125335521006, 57.03396405328275, 56.94247722005889, 56.25323681626494, 54.879191250638065, 54.58515642937657, 53.36690598422138, 52.69658643233387]\n"
     ]
    }
   ],
   "source": [
    "# 2.Supervised Direction to get optimal k* and *b\n",
    "def supervisedDir(count, data, step):\n",
    "    _randomselect = lambda : (random.random()*20-10, random.random()*20-10)\n",
    "    _genFunc = lambda k,b: lambda x: k*x+b\n",
    "    _calcLoss = lambda k,b: np.mean(np.abs(data['y'] - _genFunc(k,b)(data['x'])))\n",
    "    _genOnDir = lambda best_dir: (random.random()*best_dir[0]*step, random.random()*best_dir[1]*step)\n",
    "    _getBestDir = lambda r: ([(1,1),(1,-1),(-1,-1),(-1,1)][r.index(min(res))], min(r))\n",
    "    _randomDir = lambda : random.choice([(1,1),(1,-1),(-1,-1),(-1,1)])\n",
    "    \n",
    "    good_k, good_b = _randomselect()\n",
    "    losses = [float('inf')]\n",
    "    good_dir = _randomDir()\n",
    "    for _ in range(count):\n",
    "        # new k,b\n",
    "        dk, db = _genOnDir(good_dir)\n",
    "        k, b = good_k+dk, good_b+db\n",
    "        loss = _calcLoss(k,b)\n",
    "        \n",
    "        if loss < losses[-1]:\n",
    "            losses.append(loss)\n",
    "            good_k, good_b = k, b\n",
    "        else:\n",
    "            good_dir = _randomDir()\n",
    "        \n",
    "    return losses\n",
    "        \n",
    "losses = supervisedDir(1000, {'x': sub_age, 'y': sub_fare}, 10)\n",
    "plt.plot(range(len(losses)), losses)\n",
    "plt.show()\n",
    "print(losses[-10:])"
   ]
  },
  {
   "cell_type": "code",
   "execution_count": 4,
   "metadata": {},
   "outputs": [
    {
     "data": {
      "image/png": "[encoded data removed]",
      "text/plain": [
       "<Figure size 432x288 with 1 Axes>"
      ]
     },
     "metadata": {
      "needs_background": "light"
     },
     "output_type": "display_data"
    },
    {
     "name": "stdout",
     "output_type": "stream",
     "text": [
      "[63.202318076823374, 63.087146586399946, 63.16724882474582, 63.119224148726815, 63.13217957266824, 63.15130171105369, 63.097110320590694, 63.18337927338056, 63.06204106851314, 63.215456835707435]\n"
     ]
    }
   ],
   "source": [
    "# 3.Gradient Descent to get optimal k* and *b\n",
    "def gradDesc(count, data, lear_rate):\n",
    "    derivate_k = lambda y, eta_y, x: np.mean([-xi*1 if yi - eta_yi > 0 else -xi*-1\n",
    "                                                 for yi, eta_yi, xi in zip(y, eta_y, x)])\n",
    "    derivate_b = lambda y, eta_y: np.mean([1 if yi - eta_yi > 0 else -1 \n",
    "                                               for yi, eta_yi in zip(y, eta_y)])\n",
    "    randomkb = lambda : (random.random()*20-10, random.random()*20-10)\n",
    "    genFunc = lambda k,b: lambda x: k*x+b\n",
    "    calcLoss = lambda k,b: np.mean(np.abs(data['y'] - genFunc(k,b)(data['x'])))\n",
    "    \n",
    "    losses = []\n",
    "    k, b = randomkb()\n",
    "    for _ in range(count):\n",
    "        _func = genFunc(k,b)\n",
    "        eta_y = _func(data['x'])\n",
    "        \n",
    "        dk = derivate_k(data['y'], eta_y, data['x'])\n",
    "        db = derivate_b(data['y'], eta_y)\n",
    "        k, b = k - dk * lear_rate, b - db * lear_rate\n",
    "        losses.append(calcLoss(k, b))\n",
    "        \n",
    "    return losses\n",
    "        \n",
    "losses = gradDesc(1000, {'x': sub_age, 'y': sub_fare}, 1e-2)\n",
    "plt.plot(range(len(losses)), losses)\n",
    "plt.show()\n",
    "print(losses[-10:])"
   ]
  },
  {
   "cell_type": "markdown",
   "metadata": {},
   "source": [
    "## 2. Answer following questions:\n",
    "\n",
    "\n",
    "###### 1. Why we need machine learning methods instead of creating a complicated formula?\n"
   ]
  },
  {
   "cell_type": "markdown",
   "metadata": {},
   "source": [
    "Ans: machine learning is more flexible"
   ]
  },
  {
   "cell_type": "markdown",
   "metadata": {},
   "source": [
    "###### 2.  Wha't's the disadvantages of `the 1st Random Choosen` methods in our course? "
   ]
  },
  {
   "cell_type": "markdown",
   "metadata": {},
   "source": [
    "Ans: without supervisor, the answer will be very unstable，and we cannot tell the answer is what we want."
   ]
  },
  {
   "cell_type": "markdown",
   "metadata": {},
   "source": [
    "###### 3. Is the `2nd method supervised direction` better than 1st one?  What's the disadvantages of `the 2nd supversied directin` method? "
   ]
  },
  {
   "cell_type": "markdown",
   "metadata": {},
   "source": [
    "Ans:   \n",
    "yes its beeter than 1st one.   \n",
    "after each move, the algorithm still need to look around if the direction is not good enough, its a waste."
   ]
  },
  {
   "cell_type": "markdown",
   "metadata": {},
   "source": [
    "###### 4. Why do we use `Derivative / Gredient` to fit a target function? "
   ]
  },
  {
   "cell_type": "markdown",
   "metadata": {},
   "source": [
    "Ans:   \n",
    "Derivative will be more precisely to show which direction is \"correct\", hence we can just move forward rather than looking round."
   ]
  },
  {
   "cell_type": "markdown",
   "metadata": {},
   "source": [
    "###### 5. In the words 'Gredient Descent', what's the `Gredient` and what's the `Descent`?"
   ]
  },
  {
   "cell_type": "markdown",
   "metadata": {},
   "source": [
    "Ans:   \n",
    "Gradient shows the derivative of loss function,   \n",
    "Descent shows we always go to the direction which makes loss smaller, and how big step in each move."
   ]
  },
  {
   "cell_type": "markdown",
   "metadata": {},
   "source": [
    "###### 6. What's the advantages of `the 3rd gradient descent method` compared to the previous methods?"
   ]
  },
  {
   "cell_type": "markdown",
   "metadata": {},
   "source": [
    "Ans:   \n",
    "1. no random move, which saves a lot of calculations   \n",
    "2. we \"always\" know which direction is correct   \n",
    "3. fast convergence"
   ]
  },
  {
   "cell_type": "markdown",
   "metadata": {},
   "source": [
    "###### 7. Using the simple words to describe: What's the machine leanring."
   ]
  },
  {
   "cell_type": "markdown",
   "metadata": {},
   "source": [
    "Ans:   \n",
    "me, data, learn"
   ]
  },
  {
   "cell_type": "markdown",
   "metadata": {},
   "source": [
    "## 3. Finish the search problem"
   ]
  },
  {
   "cell_type": "markdown",
   "metadata": {},
   "source": [
    "Please using the search policy to implement an agent. This agent receives two input, one is @param start station and the other is @param destination. Your agent should give the optimal route based on Beijing Subway system. "
   ]
  },
  {
   "cell_type": "markdown",
   "metadata": {},
   "source": [
    "> Deadline: 2019-April-20\n",
    "\n",
    ">Submit: Submit the source code and result to github. \n",
    "\n"
   ]
  },
  {
   "cell_type": "markdown",
   "metadata": {},
   "source": [
    "#### Dataflow: "
   ]
  },
  {
   "cell_type": "markdown",
   "metadata": {},
   "source": [
    "##### 1.\tGet data from web page.\n",
    "\n",
    "> a.\tGet web page source from: https://baike.baidu.com/item/%E5%8C%97%E4%BA%AC%E5%9C%B0%E9%93%81/408485\n",
    "\n",
    "> b.\tYou may need @package requests page to get the response via url\n",
    "\n",
    "> c.\tYou may need save the page source to file system.\n",
    "\n",
    "> d.\tThe target of this step is get station information of all the subway lines;\n",
    "\n",
    "> e.\tYou may need install @package beautiful soup  to get the url information, or just use > Regular Expression to get the url.  Our recommendation is that using the Regular Expression and BeautiflSoup both. \n",
    "\n",
    "> f.\tYou may need BFS to get all the related page url from one url. \n",
    "Question: Why do we use BFS to traverse web page (or someone said, build a web spider)?  Can DFS do this job? which is better? "
   ]
  },
  {
   "cell_type": "markdown",
   "metadata": {},
   "source": [
    "##### 2.\tPreprocessing data from page source.\n",
    "\n",
    "> a.\tBased on the page source gotten from url. You may need some more preprocessing of the page. \n",
    "\n",
    "> b.\tthe Regular Expression you may need to process the text information.\n",
    "\n",
    "> c.\tYou may need @package networkx, @package matplotlib to visualize data. \n",
    "\n",
    "> d.\tYou should build a dictionary or graph which could represent the connection information of Beijing subway routes. \n",
    "\n",
    "> e.\tYou may need the defaultdict, set data structures to implement this procedure. "
   ]
  },
  {
   "cell_type": "markdown",
   "metadata": {},
   "source": [
    "##### 3. Build the search agent\n",
    "\n",
    "> a.\tBuild the search agent based on the graph we build.\n",
    "\n",
    "> b.\tAs much as you can to use the already implemented search agent. You just need to define the is_goal, get_successor, strategy three functions. \n"
   ]
  },
  {
   "cell_type": "markdown",
   "metadata": {},
   "source": [
    "##### 4.\tCreate different policies for transfer system.\n",
    "\n",
    "> a.\tDefine different policies for transfer system. \n",
    "\n",
    "> b.\tSuch as Shortest Path Priority（路程最短优先）, Minimum Transfer Priority(最少换乘优先), Comprehensive Priority(综合优先)\n",
    "\n",
    "> c.\tImplement Continuous transfer. Based on the Agent you implemented, please add this feature: Besides the @param start and @param destination two stations, add some more stations, we called @param by_way, it means, our path should from the start and end, but also include the  @param by_way stations. \n",
    "\n",
    "e.g \n",
    "```\n",
    "1. Input:  start=A,  destination=B, by_way=[C] \n",
    "    Output: [A, … .., C, …. B]\n",
    "2. Input: start=A, destination=B, by_way=[C, D, E]\n",
    "    Output: [A … C … E … D … B]  \n",
    "    # based on your policy, the E station could be reached firstly. \n",
    "![image.png](attachment:image.png)\n",
    "```"
   ]
  },
  {
   "cell_type": "markdown",
   "metadata": {},
   "source": [
    "##### 5.\tTest your result with commercial applications. \n",
    "\n",
    "将你的结果和高德地图或者百度地图进行比较，如果有不同，请分析原因\n"
   ]
  }
 ],
 "metadata": {
  "kernelspec": {
   "display_name": "Python 3",
   "language": "python",
   "name": "python3"
  },
  "language_info": {
   "codemirror_mode": {
    "name": "ipython",
    "version": 3
   },
   "file_extension": ".py",
   "mimetype": "text/x-python",
   "name": "python",
   "nbconvert_exporter": "python",
   "pygments_lexer": "ipython3",
   "version": "3.6.8"
  }
 },
 "nbformat": 4,
 "nbformat_minor": 2
}
