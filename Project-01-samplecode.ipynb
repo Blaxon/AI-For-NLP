{
 "cells": [
  {
   "cell_type": "code",
   "execution_count": 1,
   "metadata": {},
   "outputs": [],
   "source": [
    "import pyltp\n",
    "import jieba"
   ]
  },
  {
   "cell_type": "code",
   "execution_count": 52,
   "metadata": {},
   "outputs": [
    {
     "name": "stdout",
     "output_type": "stream",
     "text": [
      "2:ATT:华泰\t3:SBV:证券\t0:HED:表示\t3:WP:，\t14:ADV:在\t9:ATT:纳入\t8:ATT:MSCI\t6:VOB:指数\t5:POB:之后\t5:WP:，\t12:ATT:A\t14:SBV:股\t14:ADV:将\t3:VOB:迎来\t16:ATT:约\t17:ATT:850亿\t18:ATT:元\t21:ATT:人民币\t18:RAD:的\t21:ATT:增量\t14:VOB:资金\t3:WP:。\n"
     ]
    }
   ],
   "source": [
    "import os\n",
    "LTP_DATA_DIR = '/Users/hang.xiang/Downloads/ltp_data_v3.4.0'  # ltp模型目录的路径\n",
    "par_model_path = os.path.join(LTP_DATA_DIR, 'parser.model')  # 依存句法分析模型路径，模型名称为`parser.model`\n",
    "\n",
    "from pyltp import Parser\n",
    "from pyltp import Postagger\n",
    "from pyltp import Segmentor\n",
    "from pyltp import SentenceSplitter\n",
    "\n",
    "segmentor = Segmentor()  # 初始化实例\n",
    "segmentor.load(LTP_DATA_DIR+'/cws.model')\n",
    "postagger = Postagger() # 初始化实例\n",
    "postagger.load(LTP_DATA_DIR+'/pos.model')\n",
    "parser = Parser() # 初始化实例\n",
    "parser.load(LTP_DATA_DIR+'/parser.model')  # 加载模型\n",
    "\n",
    "\n",
    "sentence = '华泰证券表示，在纳入MSCI指数之后，A股将迎来约850亿元人民币的增量资金。'\n",
    "words = list(segmentor.segment(sentence))\n",
    "# print(type(words))\n",
    "# words = ['元芳', '你', '怎么', '看']\n",
    "# postags = ['nh', 'r', 'r', 'v']\n",
    "postags = postagger.postag(words)\n",
    "arcs = parser.parse(words, postags)  # 句法分析\n",
    "\n",
    "print(\"\\t\".join(\"%d:%s:%s\" % (arc.head, arc.relation,w) for arc, w in zip(arcs,words)))\n",
    "\n",
    "segmentor.release()\n",
    "postagger.release()\n",
    "parser.release()  # 释放模型"
   ]
  },
  {
   "cell_type": "code",
   "execution_count": 28,
   "metadata": {},
   "outputs": [
    {
     "name": "stdout",
     "output_type": "stream",
     "text": [
      "['从国际经验来看，纳入MSCI指数后，相关股市的投资者风格将更加稳健，更加偏好业绩稳定、流动性好、风险低的优质蓝筹股。']\n"
     ]
    }
   ],
   "source": [
    "sents = SentenceSplitter.split('从国际经验来看，纳入MSCI指数后，相关股市的投资者风格将更加稳健，更加偏好业绩稳定、流动性好、风险低的优质蓝筹股。')\n",
    "print(list(sents))"
   ]
  },
  {
   "cell_type": "code",
   "execution_count": 49,
   "metadata": {},
   "outputs": [],
   "source": [
    "class Whotalk:\n",
    "    def __init__(self, talkwordnum=60):\n",
    "        # init cut module\n",
    "        self.segmentor = Segmentor()\n",
    "        self.segmentor.load(LTP_DATA_DIR+'/cws.model')\n",
    "        # init postag module\n",
    "        self.postagger = Postagger()\n",
    "        self.postagger.load(LTP_DATA_DIR+'/pos.model')\n",
    "        # init dependency parsing module\n",
    "        self.parser = Parser()\n",
    "        self.parser.load(LTP_DATA_DIR+'/parser.model')\n",
    "        # init talk words\n",
    "        with open('saywords.json', 'r') as f:\n",
    "            self.talkwords = [word  for word, score in json.load(f)[:60]]\n",
    "\n",
    "        print('Whotalk init complete.')\n",
    "    \n",
    "    def istalkindoc(self, doc):\n",
    "        for talk_w in self.talkwords:\n",
    "            if talk_w in doc:\n",
    "                return True\n",
    "        return False\n",
    "    \n",
    "    def checkwhotalk(self, doc):\n",
    "        ret = {}\n",
    "        sentences = SentenceSplitter.split(doc)\n",
    "        for sentence in sentences:\n",
    "            if not any([w in sentence for w in self.talkwords]): \n",
    "                continue\n",
    "            # find all talk words\n",
    "            words = list(self.segmentor.segment(sentence))\n",
    "            # for each talk word, get the whole sentense\n",
    "            # for those sentense, get the postag\n",
    "            postags = self.postagger.postag(words)\n",
    "            # according to postag get the who and opinion\n",
    "            arcs = self.parser.parse(words, postags)\n",
    "            \n",
    "            for i, (arc, word) in enumerate(zip(arcs, words)):\n",
    "                if arc.head == 0 and word in self.talkwords:\n",
    "                    talkindex = i\n",
    "            \n",
    "            who = None, 100\n",
    "            for word, arc in list(zip(words, arcs))[:i]:\n",
    "                if arc.relation == 'SBV' and who[1] > arc.head:\n",
    "                    who = word, arc.head\n",
    "            ret[who[0]] = ''.join(words[talkindex+1:])\n",
    "            \n",
    "        return ret\n",
    "    \n",
    "    def release(self):\n",
    "        # release cut module\n",
    "        self.segmentor.release()\n",
    "        # release postag module\n",
    "        self.postagger.release()\n",
    "        # release dp module\n",
    "        self.parser.release()"
   ]
  },
  {
   "cell_type": "code",
   "execution_count": 51,
   "metadata": {},
   "outputs": [
    {
     "name": "stdout",
     "output_type": "stream",
     "text": [
      "Whotalk init complete.\n",
      "{'人士': '，银行股股息率高、估值低、收益稳定，对于资金量较大、投资期限较长的资金存在相当大的吸引力。', '报告': '，银行等金融股受到纳入MSCI指数的提振，未来更多境外资金将进入金融股。', '证券': '，在纳入MSCI指数之后，A股将迎来约850亿元人民币的增量资金。', '廖云龙': '，银行股脱颖而出的主要原因是低估值。'}\n"
     ]
    }
   ],
   "source": [
    "wt = Whotalk()\n",
    "ret = wt.checkwhotalk('''\n",
    "\\u3000\\u30006月21日，A股纳入MSCI指数尘埃落定，但当天被寄予厚望的券商股并未扛起反弹大旗。\n",
    "22日，在222只纳入MSCI指数的A股股票中，银行股全线飘红，其中招商银行领涨，涨幅达6.66%。\n",
    "保险股和券商股的表现也可圈可点。在这222只股票中，金融板块的股票数量和总市值占比均位居首位。\n",
    "分析人士指出，银行股股息率高、估值低、收益稳定，对于资金量较大、投资期限较长的资金存在相当大的吸引力。\n",
    "从国际经验来看，纳入MSCI指数后，相关股市的投资者风格将更加稳健，更加偏好业绩稳定、流动性好、风险低的优质蓝筹股。\n",
    "\\n\\u3000\\u3000银行股具估值优势\\n\\u3000\\u30006月22日，A股金融股表现强势，板块涨幅达1.19%。\n",
    "据平安证券统计，在222只纳入MSCI指数的A股股票中，金融板块市值占比达41.32%，其中银行、证券和保险子板块的市值占比分别为27.30%、7.75%和6.24%。\n",
    "\\n\\u3000\\u3000多家券商研究报告认为，银行等金融股受到纳入MSCI指数的提振，未来更多境外资金将进入金融股。\n",
    "\\n\\u3000\\u3000华泰证券表示，在纳入MSCI指数之后，A股将迎来约850亿元人民币的增量资金。\n",
    "其中，考虑到222只股票中，金融股市值占比约42%，并且金融股体量大、流动性强、估值低，符合境外资金偏好，有望迎来超过权重的资金比例。\n",
    "预计金融股有望吸引增量资金约350亿元人民币。\\n\\u3000\\u3000新富资本证券投资中心研究总监廖云龙认为，银行股脱颖而出的主要原因是低估值。\n",
    "市场预期银行股基本面改善，同时市场整体风格偏保守，偏爱低估值。22日银行股的大涨是市场风格的延续，是投资者对龙头股和对低估值的防御性选择。\n",
    "\\n\\u3000\\u3000东方财富choice统计的一季度末QFII重仓股数据显示，银行股是QFII关注的重点之一。在前五十大重仓股中，北京银行、南京银行、宁波银行、上海银行榜上有名。\\n\n",
    "''')\n",
    "# print(wt.talkwords)\n",
    "print(ret)\n",
    "wt.release()"
   ]
  },
  {
   "cell_type": "code",
   "execution_count": null,
   "metadata": {},
   "outputs": [],
   "source": []
  }
 ],
 "metadata": {
  "kernelspec": {
   "display_name": "Python 2",
   "language": "python",
   "name": "python2"
  },
  "language_info": {
   "codemirror_mode": {
    "name": "ipython",
    "version": 3
   },
   "file_extension": ".py",
   "mimetype": "text/x-python",
   "name": "python",
   "nbconvert_exporter": "python",
   "pygments_lexer": "ipython3",
   "version": "3.6.7"
  }
 },
 "nbformat": 4,
 "nbformat_minor": 2
}
